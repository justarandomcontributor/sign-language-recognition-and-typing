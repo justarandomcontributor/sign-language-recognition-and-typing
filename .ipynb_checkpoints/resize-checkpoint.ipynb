{
 "cells": [
  {
   "cell_type": "code",
   "execution_count": 12,
   "metadata": {},
   "outputs": [
    {
     "name": "stdout",
     "output_type": "stream",
     "text": [
      "All 126 images were rezised.\n"
     ]
    }
   ],
   "source": [
    "import cv2\n",
    "import numpy as np\n",
    "import os\n",
    "\n",
    "width = 270\n",
    "height = 360\n",
    "dim = (width, height)\n",
    "\n",
    "\n",
    "# # please give the path to original image directory\n",
    "path_original = 'C:\\\\Users\\\\sinha\\\\Desktop\\\\dataset_original\\\\0'\n",
    "\n",
    "image_list = os.listdir(path_original)   # to get the list of images in the directory\n",
    "# print(image_list)\n",
    "\n",
    "# # please give the path to resized image directory\n",
    "path_resized = 'C:\\\\Users\\\\sinha\\\\Desktop\\\\New folder\\\\0'\n",
    "\n",
    "count = 0\n",
    "for name in image_list:\n",
    "# #    resize image\n",
    "    img = cv2.imread(os.path.join(path_original, name))\n",
    "    resized = cv2.resize(img, dim, interpolation = cv2.INTER_AREA)\n",
    "# #   save the resized image to new location\n",
    "    cv2.imwrite(os.path.join(path_resized,name), resized)\n",
    "    count=count+1\n",
    "\n",
    "print('All {} images were rezised.'.format(count))\n"
   ]
  },
  {
   "cell_type": "code",
   "execution_count": null,
   "metadata": {},
   "outputs": [],
   "source": []
  },
  {
   "cell_type": "code",
   "execution_count": null,
   "metadata": {},
   "outputs": [],
   "source": []
  }
 ],
 "metadata": {
  "kernelspec": {
   "display_name": "Python 3",
   "language": "python",
   "name": "python3"
  },
  "language_info": {
   "codemirror_mode": {
    "name": "ipython",
    "version": 3
   },
   "file_extension": ".py",
   "mimetype": "text/x-python",
   "name": "python",
   "nbconvert_exporter": "python",
   "pygments_lexer": "ipython3",
   "version": "3.8.6"
  }
 },
 "nbformat": 4,
 "nbformat_minor": 4
}
