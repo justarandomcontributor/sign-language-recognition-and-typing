{
 "cells": [
  {
   "cell_type": "code",
   "execution_count": null,
   "metadata": {
    "id": "712FzjlZIHvM"
   },
   "outputs": [],
   "source": [
    "import tensorflow as tf\n",
    "import os\n",
    "import numpy as np\n",
    "\n",
    "from tensorflow.keras.applications import VGG19\n",
    "from tensorflow.keras import layers\n",
    "from tensorflow.keras import Model\n"
   ]
  },
  {
   "cell_type": "code",
   "execution_count": null,
   "metadata": {
    "colab": {
     "base_uri": "https://localhost:8080/"
    },
    "id": "_3KdFilzIP_A",
    "outputId": "a02a4adf-912c-49ea-d32b-425ef613f96a"
   },
   "outputs": [],
   "source": [
    "print(os.getcwd())  # to get the current working directory"
   ]
  },
  {
   "cell_type": "code",
   "execution_count": null,
   "metadata": {
    "colab": {
     "base_uri": "https://localhost:8080/"
    },
    "id": "ORw4idHbIor8",
    "outputId": "fe66ba5f-89ae-4f76-b293-5c6a0c41921e"
   },
   "outputs": [],
   "source": [
    "# code only necessary when using colab to extract the dataset from the uploaded dataset.zip file\n",
    "\n",
    "file_path = '/dataset.zip'\n",
    "from zipfile import ZipFile\n",
    "file_name = file_path\n",
    "\n",
    "with ZipFile(file_name, 'r') as zip:\n",
    "  zip.extractall()\n",
    "  print('Done')"
   ]
  },
  {
   "cell_type": "code",
   "execution_count": null,
   "metadata": {
    "colab": {
     "base_uri": "https://localhost:8080/"
    },
    "id": "BF_anc4YIHvN",
    "outputId": "dbc21e59-2544-4719-80a1-f515d76b9535"
   },
   "outputs": [],
   "source": [
    "# Using VGG19 model with Imagenet weights to extract features from the images for faster and better results.\n",
    "\n",
    "base_model = VGG19(include_top=False, weights='imagenet', input_shape=(460,240,3))\n",
    "\n",
    "for layer in base_model.layers:    # freezing the base_model layers\n",
    "    layer.trainable= False\n",
    "    \n",
    "# base_model.summary()\n",
    "\n",
    "last_output = base_model.output\n",
    "\n",
    "x = layers.Flatten()(last_output)\n",
    "x = layers.Dense(128, activation='relu')(x)\n",
    "x = layers.Dense(64, activation='relu')(x)                \n",
    "x = layers.Dense(2, activation='softmax')(x)    # number of neurons to be changed depending upon number of output classes       \n",
    "\n",
    "model = Model( base_model.input, x) \n",
    "\n",
    "model.compile(optimizer ='adam', \n",
    "              loss = 'categorical_crossentropy', \n",
    "              metrics = ['accuracy'])\n",
    "\n",
    "model.summary()"
   ]
  },
  {
   "cell_type": "code",
   "execution_count": null,
   "metadata": {
    "colab": {
     "base_uri": "https://localhost:8080/"
    },
    "id": "GtTxYyt4IHvO",
    "outputId": "6e65b851-cf38-4a2b-dc0d-63f345c83600"
   },
   "outputs": [],
   "source": [
    "dir_path = \"/content/dataset\"  # dataset path\n",
    "\n",
    "batch_size = 128\n",
    "\n",
    "image_generator = tf.keras.preprocessing.image.ImageDataGenerator(\n",
    "    rotation_range=0.4, shear_range=0.2, fill_mode='nearest', horizontal_flip=True,\n",
    "    vertical_flip=False, rescale=1./255, preprocessing_function=None,\n",
    "    validation_split=0.2\n",
    ")\n",
    "\n",
    "train_data = image_generator.flow_from_directory(\n",
    "    dir_path,\n",
    "    target_size = (460,240),\n",
    "    batch_size = batch_size,\n",
    "    class_mode = 'categorical',\n",
    "    subset = \"training\"\n",
    ")\n",
    "\n",
    "validation_data = image_generator.flow_from_directory(\n",
    "    dir_path,\n",
    "    target_size = (460,240),\n",
    "    batch_size = batch_size,\n",
    "    class_mode = 'categorical',\n",
    "    subset = \"validation\"\n",
    ")\n"
   ]
  },
  {
   "cell_type": "code",
   "execution_count": null,
   "metadata": {
    "id": "ZDEkyGNDIHvP",
    "outputId": "cd40873b-3c61-4d21-fdf4-6bc29c47c121"
   },
   "outputs": [],
   "source": [
    "# only used for basic testing and comparision.\n",
    "\n",
    "# model = tf.keras.Sequential([\n",
    "#     tf.keras.layers.Conv2D(32,(5,5), activation='relu', input_shape=(460,240,3)),\n",
    "#     tf.keras.layers.MaxPooling2D(4),\n",
    "#     tf.keras.layers.Conv2D(64,(5,5), activation='relu'),\n",
    "#     tf.keras.layers.MaxPooling2D(4),\n",
    "#     tf.keras.layers.Conv2D(64,(5,5), activation='relu'),\n",
    "#     tf.keras.layers.Flatten(),\n",
    "#     tf.keras.layers.Dense(512,activation='relu'),\n",
    "#     tf.keras.layers.Dense(128,activation='relu'),\n",
    "#     tf.keras.layers.Dense(64, activation='relu'),\n",
    "#     tf.keras.layers.Dense(2,activation='softmax'),\n",
    "# ])\n",
    "\n",
    "# model.summary()"
   ]
  },
  {
   "cell_type": "code",
   "execution_count": null,
   "metadata": {
    "id": "PEN7hY9TIHvP"
   },
   "outputs": [],
   "source": [
    "model.compile(loss='categorical_crossentropy', optimizer='Adam', metrics=['acc'])"
   ]
  },
  {
   "cell_type": "code",
   "execution_count": null,
   "metadata": {
    "id": "1gavqAfAIHvP"
   },
   "outputs": [],
   "source": [
    "# to be used to reset the GPU if required\n",
    "\n",
    "# from numba import cuda \n",
    "# device = cuda.get_current_device()\n",
    "# device.reset()\n"
   ]
  },
  {
   "cell_type": "code",
   "execution_count": null,
   "metadata": {
    "colab": {
     "base_uri": "https://localhost:8080/",
     "height": 421
    },
    "id": "JBoULJuXIHvP",
    "outputId": "dd02c319-8c04-4f36-c106-fe3982ced733"
   },
   "outputs": [],
   "source": [
    "# for training using CPU\n",
    "\n",
    "# with tf.device('/CPU:0'):\n",
    "#     history = model.fit(train_data, epochs=10, validation_data = validation_data, verbose=2 )\n"
   ]
  },
  {
   "cell_type": "code",
   "execution_count": null,
   "metadata": {},
   "outputs": [],
   "source": [
    "# for training using GPU\n",
    "\n",
    "history = model.fit(train_data, epochs=10, validation_data = validation_data )"
   ]
  },
  {
   "cell_type": "code",
   "execution_count": null,
   "metadata": {
    "id": "b5nmOUSTIHvP"
   },
   "outputs": [],
   "source": [
    "# to be used to save the model after training\n",
    "\n",
    "# path = 'C:\\Users\\sinha\\Desktop\\Open cv\\saved_model'\n",
    "# model.save(path)\n",
    "    "
   ]
  }
 ],
 "metadata": {
  "accelerator": "GPU",
  "colab": {
   "collapsed_sections": [],
   "name": "train.ipynb",
   "provenance": []
  },
  "kernelspec": {
   "display_name": "Python 3",
   "language": "python",
   "name": "python3"
  },
  "language_info": {
   "codemirror_mode": {
    "name": "ipython",
    "version": 3
   },
   "file_extension": ".py",
   "mimetype": "text/x-python",
   "name": "python",
   "nbconvert_exporter": "python",
   "pygments_lexer": "ipython3",
   "version": "3.8.6"
  }
 },
 "nbformat": 4,
 "nbformat_minor": 1
}
